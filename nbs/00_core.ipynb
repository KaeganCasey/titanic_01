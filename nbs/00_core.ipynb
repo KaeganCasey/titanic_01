{
 "cells": [
  {
   "cell_type": "code",
   "execution_count": 1,
   "id": "regulated-alarm",
   "metadata": {},
   "outputs": [],
   "source": [
    "#default_exp core"
   ]
  },
  {
   "cell_type": "markdown",
   "id": "separated-primary",
   "metadata": {},
   "source": [
    "# TITLE"
   ]
  },
  {
   "cell_type": "markdown",
   "id": "quick-scottish",
   "metadata": {},
   "source": [
    "## INFO\n",
    "By: Kaegan Casey"
   ]
  },
  {
   "cell_type": "markdown",
   "id": "later-briefing",
   "metadata": {},
   "source": [
    "## TODO:\n",
    "\n",
    "* try cross_validate with return_estimator=True"
   ]
  },
  {
   "cell_type": "markdown",
   "id": "flexible-ranch",
   "metadata": {},
   "source": [
    "## Import Packages"
   ]
  },
  {
   "cell_type": "code",
   "execution_count": 2,
   "id": "electric-firewall",
   "metadata": {},
   "outputs": [],
   "source": [
    "# auto-reload magic\n",
    "%load_ext autoreload\n",
    "%autoreload 2"
   ]
  },
  {
   "cell_type": "code",
   "execution_count": 3,
   "id": "least-corruption",
   "metadata": {},
   "outputs": [],
   "source": [
    "#export\n",
    "import pandas as pd\n",
    "pd.options.display.max_rows = 120\n",
    "pd.options.display.max_columns = 120\n",
    "\n",
    "import numpy as np\n",
    "\n",
    "# plotting\n",
    "import matplotlib.pyplot as plt\n",
    "import seaborn as sns\n",
    "\n",
    "# mlflow\n",
    "import mlflow\n",
    "\n",
    "# models\n",
    "from xgboost import XGBClassifier\n",
    "\n",
    "# helper libraries\n",
    "from sklearn.model_selection import cross_validate, train_test_split\n",
    "\n",
    "# custom packages\n",
    "import sys\n",
    "sys.path.append('../')\n",
    "import titanic.preprocessing as prpr\n",
    "import titanic.training as trn"
   ]
  },
  {
   "cell_type": "markdown",
   "id": "superior-boston",
   "metadata": {},
   "source": [
    "## Global Variables"
   ]
  },
  {
   "cell_type": "markdown",
   "id": "motivated-disney",
   "metadata": {},
   "source": [
    "### Constants"
   ]
  },
  {
   "cell_type": "code",
   "execution_count": 4,
   "id": "olympic-adams",
   "metadata": {
    "tags": [
     "test"
    ]
   },
   "outputs": [],
   "source": [
    "#export\n",
    "LOG_MLFLOW = False\n",
    "EXP_NAME = 'Test_03-14'\n",
    "\n",
    "TARGET = 'Survived'\n",
    "\n",
    "STATE = 9"
   ]
  },
  {
   "cell_type": "markdown",
   "id": "former-happening",
   "metadata": {},
   "source": [
    "### Parameters"
   ]
  },
  {
   "cell_type": "code",
   "execution_count": 5,
   "id": "certain-privacy",
   "metadata": {},
   "outputs": [],
   "source": [
    "#export\n",
    "n_estimators = 100\n",
    "max_depth = 6\n",
    "learning_rate = 0.3\n",
    "#features = 'ALL'\n",
    "features = ['Sex_female', 'Sex_male']"
   ]
  },
  {
   "cell_type": "markdown",
   "id": "considered-mirror",
   "metadata": {},
   "source": [
    "## Set Up MLFlow Experiment"
   ]
  },
  {
   "cell_type": "code",
   "execution_count": 6,
   "id": "critical-firewall",
   "metadata": {},
   "outputs": [],
   "source": [
    "#export\n",
    "if LOG_MLFLOW:\n",
    "    EX_ID = mlflow.set_experiment(EXP_NAME)"
   ]
  },
  {
   "cell_type": "markdown",
   "id": "alone-definition",
   "metadata": {},
   "source": [
    "## Data"
   ]
  },
  {
   "cell_type": "code",
   "execution_count": 7,
   "id": "south-encounter",
   "metadata": {},
   "outputs": [],
   "source": [
    "#export\n",
    "raw_train = pd.read_csv('../data/1_raw/train.csv')"
   ]
  },
  {
   "cell_type": "code",
   "execution_count": 8,
   "id": "external-productivity",
   "metadata": {},
   "outputs": [
    {
     "data": {
      "text/plain": [
       "(418, 11)"
      ]
     },
     "execution_count": 8,
     "metadata": {},
     "output_type": "execute_result"
    }
   ],
   "source": [
    "#export\n",
    "raw_test = pd.read_csv('../data/1_raw/test.csv')\n",
    "raw_test.shape"
   ]
  },
  {
   "cell_type": "markdown",
   "id": "responsible-milan",
   "metadata": {},
   "source": [
    "## Preprocess Data"
   ]
  },
  {
   "cell_type": "code",
   "execution_count": 9,
   "id": "comprehensive-wichita",
   "metadata": {},
   "outputs": [],
   "source": [
    "#export\n",
    "df_list = [raw_train, raw_test]\n",
    "drop_features = ['PassengerId', 'Name', 'Ticket', 'Cabin']\n",
    "\n",
    "proc_df_list = prpr.run(df_list, drop_features)\n",
    "proc_train = proc_df_list[0]\n",
    "proc_test = proc_df_list[1]"
   ]
  },
  {
   "cell_type": "code",
   "execution_count": 10,
   "id": "descending-split",
   "metadata": {},
   "outputs": [
    {
     "data": {
      "text/html": [
       "<div>\n",
       "<style scoped>\n",
       "    .dataframe tbody tr th:only-of-type {\n",
       "        vertical-align: middle;\n",
       "    }\n",
       "\n",
       "    .dataframe tbody tr th {\n",
       "        vertical-align: top;\n",
       "    }\n",
       "\n",
       "    .dataframe thead th {\n",
       "        text-align: right;\n",
       "    }\n",
       "</style>\n",
       "<table border=\"1\" class=\"dataframe\">\n",
       "  <thead>\n",
       "    <tr style=\"text-align: right;\">\n",
       "      <th></th>\n",
       "      <th>Survived</th>\n",
       "      <th>Pclass</th>\n",
       "      <th>Age</th>\n",
       "      <th>SibSp</th>\n",
       "      <th>Parch</th>\n",
       "      <th>Fare</th>\n",
       "      <th>Sex_female</th>\n",
       "      <th>Sex_male</th>\n",
       "      <th>Embarked_C</th>\n",
       "      <th>Embarked_Q</th>\n",
       "      <th>Embarked_S</th>\n",
       "      <th>Deck_A</th>\n",
       "      <th>Deck_B</th>\n",
       "      <th>Deck_C</th>\n",
       "      <th>Deck_D</th>\n",
       "      <th>Deck_E</th>\n",
       "      <th>Deck_F</th>\n",
       "      <th>Deck_G</th>\n",
       "      <th>Deck_T</th>\n",
       "      <th>Deck_Unknown</th>\n",
       "    </tr>\n",
       "  </thead>\n",
       "  <tbody>\n",
       "    <tr>\n",
       "      <th>0</th>\n",
       "      <td>0</td>\n",
       "      <td>3</td>\n",
       "      <td>22.0</td>\n",
       "      <td>1</td>\n",
       "      <td>0</td>\n",
       "      <td>7.2500</td>\n",
       "      <td>0</td>\n",
       "      <td>1</td>\n",
       "      <td>0</td>\n",
       "      <td>0</td>\n",
       "      <td>1</td>\n",
       "      <td>0</td>\n",
       "      <td>0</td>\n",
       "      <td>0</td>\n",
       "      <td>0</td>\n",
       "      <td>0</td>\n",
       "      <td>0</td>\n",
       "      <td>0</td>\n",
       "      <td>0</td>\n",
       "      <td>1</td>\n",
       "    </tr>\n",
       "    <tr>\n",
       "      <th>1</th>\n",
       "      <td>1</td>\n",
       "      <td>1</td>\n",
       "      <td>38.0</td>\n",
       "      <td>1</td>\n",
       "      <td>0</td>\n",
       "      <td>71.2833</td>\n",
       "      <td>1</td>\n",
       "      <td>0</td>\n",
       "      <td>1</td>\n",
       "      <td>0</td>\n",
       "      <td>0</td>\n",
       "      <td>0</td>\n",
       "      <td>0</td>\n",
       "      <td>1</td>\n",
       "      <td>0</td>\n",
       "      <td>0</td>\n",
       "      <td>0</td>\n",
       "      <td>0</td>\n",
       "      <td>0</td>\n",
       "      <td>0</td>\n",
       "    </tr>\n",
       "    <tr>\n",
       "      <th>2</th>\n",
       "      <td>1</td>\n",
       "      <td>3</td>\n",
       "      <td>26.0</td>\n",
       "      <td>0</td>\n",
       "      <td>0</td>\n",
       "      <td>7.9250</td>\n",
       "      <td>1</td>\n",
       "      <td>0</td>\n",
       "      <td>0</td>\n",
       "      <td>0</td>\n",
       "      <td>1</td>\n",
       "      <td>0</td>\n",
       "      <td>0</td>\n",
       "      <td>0</td>\n",
       "      <td>0</td>\n",
       "      <td>0</td>\n",
       "      <td>0</td>\n",
       "      <td>0</td>\n",
       "      <td>0</td>\n",
       "      <td>1</td>\n",
       "    </tr>\n",
       "    <tr>\n",
       "      <th>3</th>\n",
       "      <td>1</td>\n",
       "      <td>1</td>\n",
       "      <td>35.0</td>\n",
       "      <td>1</td>\n",
       "      <td>0</td>\n",
       "      <td>53.1000</td>\n",
       "      <td>1</td>\n",
       "      <td>0</td>\n",
       "      <td>0</td>\n",
       "      <td>0</td>\n",
       "      <td>1</td>\n",
       "      <td>0</td>\n",
       "      <td>0</td>\n",
       "      <td>1</td>\n",
       "      <td>0</td>\n",
       "      <td>0</td>\n",
       "      <td>0</td>\n",
       "      <td>0</td>\n",
       "      <td>0</td>\n",
       "      <td>0</td>\n",
       "    </tr>\n",
       "    <tr>\n",
       "      <th>4</th>\n",
       "      <td>0</td>\n",
       "      <td>3</td>\n",
       "      <td>35.0</td>\n",
       "      <td>0</td>\n",
       "      <td>0</td>\n",
       "      <td>8.0500</td>\n",
       "      <td>0</td>\n",
       "      <td>1</td>\n",
       "      <td>0</td>\n",
       "      <td>0</td>\n",
       "      <td>1</td>\n",
       "      <td>0</td>\n",
       "      <td>0</td>\n",
       "      <td>0</td>\n",
       "      <td>0</td>\n",
       "      <td>0</td>\n",
       "      <td>0</td>\n",
       "      <td>0</td>\n",
       "      <td>0</td>\n",
       "      <td>1</td>\n",
       "    </tr>\n",
       "  </tbody>\n",
       "</table>\n",
       "</div>"
      ],
      "text/plain": [
       "   Survived  Pclass   Age  SibSp  Parch     Fare  Sex_female  Sex_male  \\\n",
       "0         0       3  22.0      1      0   7.2500           0         1   \n",
       "1         1       1  38.0      1      0  71.2833           1         0   \n",
       "2         1       3  26.0      0      0   7.9250           1         0   \n",
       "3         1       1  35.0      1      0  53.1000           1         0   \n",
       "4         0       3  35.0      0      0   8.0500           0         1   \n",
       "\n",
       "   Embarked_C  Embarked_Q  Embarked_S  Deck_A  Deck_B  Deck_C  Deck_D  Deck_E  \\\n",
       "0           0           0           1       0       0       0       0       0   \n",
       "1           1           0           0       0       0       1       0       0   \n",
       "2           0           0           1       0       0       0       0       0   \n",
       "3           0           0           1       0       0       1       0       0   \n",
       "4           0           0           1       0       0       0       0       0   \n",
       "\n",
       "   Deck_F  Deck_G  Deck_T  Deck_Unknown  \n",
       "0       0       0       0             1  \n",
       "1       0       0       0             0  \n",
       "2       0       0       0             1  \n",
       "3       0       0       0             0  \n",
       "4       0       0       0             1  "
      ]
     },
     "execution_count": 10,
     "metadata": {},
     "output_type": "execute_result"
    }
   ],
   "source": [
    "proc_train.head()"
   ]
  },
  {
   "cell_type": "code",
   "execution_count": 11,
   "id": "offensive-report",
   "metadata": {},
   "outputs": [
    {
     "data": {
      "text/html": [
       "<div>\n",
       "<style scoped>\n",
       "    .dataframe tbody tr th:only-of-type {\n",
       "        vertical-align: middle;\n",
       "    }\n",
       "\n",
       "    .dataframe tbody tr th {\n",
       "        vertical-align: top;\n",
       "    }\n",
       "\n",
       "    .dataframe thead th {\n",
       "        text-align: right;\n",
       "    }\n",
       "</style>\n",
       "<table border=\"1\" class=\"dataframe\">\n",
       "  <thead>\n",
       "    <tr style=\"text-align: right;\">\n",
       "      <th></th>\n",
       "      <th>Pclass</th>\n",
       "      <th>Age</th>\n",
       "      <th>SibSp</th>\n",
       "      <th>Parch</th>\n",
       "      <th>Fare</th>\n",
       "      <th>Sex_female</th>\n",
       "      <th>Sex_male</th>\n",
       "      <th>Embarked_C</th>\n",
       "      <th>Embarked_Q</th>\n",
       "      <th>Embarked_S</th>\n",
       "      <th>Deck_A</th>\n",
       "      <th>Deck_B</th>\n",
       "      <th>Deck_C</th>\n",
       "      <th>Deck_D</th>\n",
       "      <th>Deck_E</th>\n",
       "      <th>Deck_F</th>\n",
       "      <th>Deck_G</th>\n",
       "      <th>Deck_Unknown</th>\n",
       "    </tr>\n",
       "  </thead>\n",
       "  <tbody>\n",
       "    <tr>\n",
       "      <th>0</th>\n",
       "      <td>3</td>\n",
       "      <td>34.5</td>\n",
       "      <td>0</td>\n",
       "      <td>0</td>\n",
       "      <td>7.8292</td>\n",
       "      <td>0</td>\n",
       "      <td>1</td>\n",
       "      <td>0</td>\n",
       "      <td>1</td>\n",
       "      <td>0</td>\n",
       "      <td>0</td>\n",
       "      <td>0</td>\n",
       "      <td>0</td>\n",
       "      <td>0</td>\n",
       "      <td>0</td>\n",
       "      <td>0</td>\n",
       "      <td>0</td>\n",
       "      <td>1</td>\n",
       "    </tr>\n",
       "    <tr>\n",
       "      <th>1</th>\n",
       "      <td>3</td>\n",
       "      <td>47.0</td>\n",
       "      <td>1</td>\n",
       "      <td>0</td>\n",
       "      <td>7.0000</td>\n",
       "      <td>1</td>\n",
       "      <td>0</td>\n",
       "      <td>0</td>\n",
       "      <td>0</td>\n",
       "      <td>1</td>\n",
       "      <td>0</td>\n",
       "      <td>0</td>\n",
       "      <td>0</td>\n",
       "      <td>0</td>\n",
       "      <td>0</td>\n",
       "      <td>0</td>\n",
       "      <td>0</td>\n",
       "      <td>1</td>\n",
       "    </tr>\n",
       "    <tr>\n",
       "      <th>2</th>\n",
       "      <td>2</td>\n",
       "      <td>62.0</td>\n",
       "      <td>0</td>\n",
       "      <td>0</td>\n",
       "      <td>9.6875</td>\n",
       "      <td>0</td>\n",
       "      <td>1</td>\n",
       "      <td>0</td>\n",
       "      <td>1</td>\n",
       "      <td>0</td>\n",
       "      <td>0</td>\n",
       "      <td>0</td>\n",
       "      <td>0</td>\n",
       "      <td>0</td>\n",
       "      <td>0</td>\n",
       "      <td>0</td>\n",
       "      <td>0</td>\n",
       "      <td>1</td>\n",
       "    </tr>\n",
       "    <tr>\n",
       "      <th>3</th>\n",
       "      <td>3</td>\n",
       "      <td>27.0</td>\n",
       "      <td>0</td>\n",
       "      <td>0</td>\n",
       "      <td>8.6625</td>\n",
       "      <td>0</td>\n",
       "      <td>1</td>\n",
       "      <td>0</td>\n",
       "      <td>0</td>\n",
       "      <td>1</td>\n",
       "      <td>0</td>\n",
       "      <td>0</td>\n",
       "      <td>0</td>\n",
       "      <td>0</td>\n",
       "      <td>0</td>\n",
       "      <td>0</td>\n",
       "      <td>0</td>\n",
       "      <td>1</td>\n",
       "    </tr>\n",
       "    <tr>\n",
       "      <th>4</th>\n",
       "      <td>3</td>\n",
       "      <td>22.0</td>\n",
       "      <td>1</td>\n",
       "      <td>1</td>\n",
       "      <td>12.2875</td>\n",
       "      <td>1</td>\n",
       "      <td>0</td>\n",
       "      <td>0</td>\n",
       "      <td>0</td>\n",
       "      <td>1</td>\n",
       "      <td>0</td>\n",
       "      <td>0</td>\n",
       "      <td>0</td>\n",
       "      <td>0</td>\n",
       "      <td>0</td>\n",
       "      <td>0</td>\n",
       "      <td>0</td>\n",
       "      <td>1</td>\n",
       "    </tr>\n",
       "  </tbody>\n",
       "</table>\n",
       "</div>"
      ],
      "text/plain": [
       "   Pclass   Age  SibSp  Parch     Fare  Sex_female  Sex_male  Embarked_C  \\\n",
       "0       3  34.5      0      0   7.8292           0         1           0   \n",
       "1       3  47.0      1      0   7.0000           1         0           0   \n",
       "2       2  62.0      0      0   9.6875           0         1           0   \n",
       "3       3  27.0      0      0   8.6625           0         1           0   \n",
       "4       3  22.0      1      1  12.2875           1         0           0   \n",
       "\n",
       "   Embarked_Q  Embarked_S  Deck_A  Deck_B  Deck_C  Deck_D  Deck_E  Deck_F  \\\n",
       "0           1           0       0       0       0       0       0       0   \n",
       "1           0           1       0       0       0       0       0       0   \n",
       "2           1           0       0       0       0       0       0       0   \n",
       "3           0           1       0       0       0       0       0       0   \n",
       "4           0           1       0       0       0       0       0       0   \n",
       "\n",
       "   Deck_G  Deck_Unknown  \n",
       "0       0             1  \n",
       "1       0             1  \n",
       "2       0             1  \n",
       "3       0             1  \n",
       "4       0             1  "
      ]
     },
     "execution_count": 11,
     "metadata": {},
     "output_type": "execute_result"
    }
   ],
   "source": [
    "proc_test.head()"
   ]
  },
  {
   "cell_type": "code",
   "execution_count": 12,
   "id": "obvious-binding",
   "metadata": {},
   "outputs": [
    {
     "data": {
      "text/plain": [
       "True"
      ]
     },
     "execution_count": 12,
     "metadata": {},
     "output_type": "execute_result"
    }
   ],
   "source": [
    "#export\n",
    "prpr.save_interim_data(proc_train, 'interim_train')\n",
    "prpr.save_interim_data(proc_test, 'interim_test')"
   ]
  },
  {
   "cell_type": "markdown",
   "id": "human-estonia",
   "metadata": {},
   "source": [
    "## Split"
   ]
  },
  {
   "cell_type": "code",
   "execution_count": 13,
   "id": "documented-trouble",
   "metadata": {},
   "outputs": [],
   "source": [
    "#export\n",
    "if isinstance(features, str):\n",
    "    if features == 'ALL':\n",
    "        features = proc_train.columns\n",
    "    else:\n",
    "        raise ValueError(\"features param is a string but does not take on the value 'ALL'.\")\n",
    "elif isinstance(features, list):\n",
    "    features.insert(0, TARGET)\n",
    "else:\n",
    "    raise ValueError(\"features param is not a list or string.\")"
   ]
  },
  {
   "cell_type": "code",
   "execution_count": 14,
   "id": "capital-certification",
   "metadata": {},
   "outputs": [],
   "source": [
    "# drop_me = ['SibSp', 'Embarked_S', 'Fare', 'Deck_E', 'Deck_C', 'Age', 'Embarked_C', \n",
    "#  'Parch', 'Embarked_Q', 'Deck_D', 'Deck_A', 'Sex_male', 'Deck_F', 'Deck_G', 'Deck_T']\n",
    "#drop_me = ['Embarked_C', 'Deck_E', 'Deck_C', 'Deck_B', 'Parch', 'Embarked_Q', 'Deck_D', 'Deck_A', 'Sex_male', 'Deck_F', 'Deck_G', 'Deck_T']\n",
    "#proc_train.drop(drop_me, axis=1, inplace=True)"
   ]
  },
  {
   "cell_type": "code",
   "execution_count": 16,
   "id": "together-sherman",
   "metadata": {},
   "outputs": [],
   "source": [
    "#export\n",
    "proc_train = proc_train[features].copy()"
   ]
  },
  {
   "cell_type": "code",
   "execution_count": 17,
   "id": "preliminary-majority",
   "metadata": {
    "tags": []
   },
   "outputs": [],
   "source": [
    "#export\n",
    "X_train, y_train = trn.seperate_xy(proc_train, TARGET)"
   ]
  },
  {
   "cell_type": "code",
   "execution_count": 18,
   "id": "relative-banner",
   "metadata": {},
   "outputs": [
    {
     "data": {
      "text/plain": [
       "((891, 2), (891,))"
      ]
     },
     "execution_count": 18,
     "metadata": {},
     "output_type": "execute_result"
    }
   ],
   "source": [
    "X_train.shape, y_train.shape"
   ]
  },
  {
   "cell_type": "code",
   "execution_count": 19,
   "id": "complex-shakespeare",
   "metadata": {},
   "outputs": [
    {
     "data": {
      "text/html": [
       "<div>\n",
       "<style scoped>\n",
       "    .dataframe tbody tr th:only-of-type {\n",
       "        vertical-align: middle;\n",
       "    }\n",
       "\n",
       "    .dataframe tbody tr th {\n",
       "        vertical-align: top;\n",
       "    }\n",
       "\n",
       "    .dataframe thead th {\n",
       "        text-align: right;\n",
       "    }\n",
       "</style>\n",
       "<table border=\"1\" class=\"dataframe\">\n",
       "  <thead>\n",
       "    <tr style=\"text-align: right;\">\n",
       "      <th></th>\n",
       "      <th>Sex_female</th>\n",
       "      <th>Sex_male</th>\n",
       "    </tr>\n",
       "  </thead>\n",
       "  <tbody>\n",
       "    <tr>\n",
       "      <th>0</th>\n",
       "      <td>0</td>\n",
       "      <td>1</td>\n",
       "    </tr>\n",
       "    <tr>\n",
       "      <th>1</th>\n",
       "      <td>1</td>\n",
       "      <td>0</td>\n",
       "    </tr>\n",
       "    <tr>\n",
       "      <th>2</th>\n",
       "      <td>1</td>\n",
       "      <td>0</td>\n",
       "    </tr>\n",
       "    <tr>\n",
       "      <th>3</th>\n",
       "      <td>1</td>\n",
       "      <td>0</td>\n",
       "    </tr>\n",
       "    <tr>\n",
       "      <th>4</th>\n",
       "      <td>0</td>\n",
       "      <td>1</td>\n",
       "    </tr>\n",
       "    <tr>\n",
       "      <th>...</th>\n",
       "      <td>...</td>\n",
       "      <td>...</td>\n",
       "    </tr>\n",
       "    <tr>\n",
       "      <th>886</th>\n",
       "      <td>0</td>\n",
       "      <td>1</td>\n",
       "    </tr>\n",
       "    <tr>\n",
       "      <th>887</th>\n",
       "      <td>1</td>\n",
       "      <td>0</td>\n",
       "    </tr>\n",
       "    <tr>\n",
       "      <th>888</th>\n",
       "      <td>1</td>\n",
       "      <td>0</td>\n",
       "    </tr>\n",
       "    <tr>\n",
       "      <th>889</th>\n",
       "      <td>0</td>\n",
       "      <td>1</td>\n",
       "    </tr>\n",
       "    <tr>\n",
       "      <th>890</th>\n",
       "      <td>0</td>\n",
       "      <td>1</td>\n",
       "    </tr>\n",
       "  </tbody>\n",
       "</table>\n",
       "<p>891 rows × 2 columns</p>\n",
       "</div>"
      ],
      "text/plain": [
       "     Sex_female  Sex_male\n",
       "0             0         1\n",
       "1             1         0\n",
       "2             1         0\n",
       "3             1         0\n",
       "4             0         1\n",
       "..          ...       ...\n",
       "886           0         1\n",
       "887           1         0\n",
       "888           1         0\n",
       "889           0         1\n",
       "890           0         1\n",
       "\n",
       "[891 rows x 2 columns]"
      ]
     },
     "execution_count": 19,
     "metadata": {},
     "output_type": "execute_result"
    }
   ],
   "source": [
    "X_train"
   ]
  },
  {
   "cell_type": "code",
   "execution_count": 20,
   "id": "loose-haiti",
   "metadata": {
    "tags": []
   },
   "outputs": [],
   "source": [
    "#help(XGBClassifier)"
   ]
  },
  {
   "cell_type": "code",
   "execution_count": 21,
   "id": "resident-georgia",
   "metadata": {},
   "outputs": [
    {
     "name": "stdout",
     "output_type": "stream",
     "text": [
      "0.7867365513778168 accuracy with a standard deviation of 0.018667207932566335\n"
     ]
    }
   ],
   "source": [
    "#export\n",
    "clf = XGBClassifier(n_estimators = n_estimators,\n",
    "                    use_label_encoder = False,\n",
    "                    max_depth = max_depth,\n",
    "                    learning_rate = learning_rate,\n",
    "                    random_state = STATE, \n",
    "                    eval_metric = 'logloss')\n",
    "\n",
    "\n",
    "\n",
    "\n",
    "val_info = cross_validate(\n",
    "    clf, \n",
    "    X_train, \n",
    "    y_train, \n",
    "    scoring='accuracy', \n",
    "    return_estimator=True\n",
    ")\n",
    "\n",
    "score_mean = val_info['test_score'].mean()\n",
    "score_std = val_info['test_score'].std()\n",
    "print(f'{score_mean} accuracy with a standard deviation of {score_std}')"
   ]
  },
  {
   "cell_type": "code",
   "execution_count": 22,
   "id": "incoming-windsor",
   "metadata": {},
   "outputs": [],
   "source": [
    "#export\n",
    "clf = val_info['estimator'][0]"
   ]
  },
  {
   "cell_type": "code",
   "execution_count": 23,
   "id": "little-score",
   "metadata": {
    "tags": []
   },
   "outputs": [],
   "source": [
    "#export\n",
    "importance_df = pd.DataFrame({'feature':X_train.columns, 'importance': clf.feature_importances_}).sort_values('importance', ascending=False)"
   ]
  },
  {
   "cell_type": "code",
   "execution_count": 24,
   "id": "requested-flooring",
   "metadata": {},
   "outputs": [],
   "source": [
    "#export\n",
    "importance_df.to_html('../output/data/feature_importance.html', index=False)"
   ]
  },
  {
   "cell_type": "code",
   "execution_count": 25,
   "id": "vertical-sacrifice",
   "metadata": {},
   "outputs": [],
   "source": [
    "#export\n",
    "if LOG_MLFLOW:\n",
    "    with mlflow.start_run(experiment_id=EX_ID):\n",
    "        mlflow.log_param('num_features', X_train.shape[1])\n",
    "        mlflow.log_param('n_estimators', clf.get_params()['n_estimators'])\n",
    "        mlflow.log_param('max_depth', clf.get_params()['max_depth'])\n",
    "        mlflow.log_param('learning_rate', clf.get_params()['learning_rate'])\n",
    "        mlflow.log_param('booster', clf.get_params()['booster'])\n",
    "        \n",
    "        mlflow.log_metric('mean_accuracy', score_mean)\n",
    "        mlflow.log_metric('std_accuracy', score_std)\n",
    "        \n",
    "        mlflow.log_artifact('../output/data/feature_importance.html')"
   ]
  },
  {
   "cell_type": "code",
   "execution_count": null,
   "id": "departmental-future",
   "metadata": {},
   "outputs": [],
   "source": []
  }
 ],
 "metadata": {
  "kernelspec": {
   "display_name": "mlflow_test",
   "language": "python",
   "name": "mlflow_test"
  },
  "language_info": {
   "codemirror_mode": {
    "name": "ipython",
    "version": 3
   },
   "file_extension": ".py",
   "mimetype": "text/x-python",
   "name": "python",
   "nbconvert_exporter": "python",
   "pygments_lexer": "ipython3",
   "version": "3.9.2"
  }
 },
 "nbformat": 4,
 "nbformat_minor": 5
}
